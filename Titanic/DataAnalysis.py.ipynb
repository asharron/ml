{
 "cells": [
  {
   "cell_type": "code",
   "execution_count": 23,
   "metadata": {},
   "outputs": [
    {
     "name": "stdout",
     "output_type": "stream",
     "text": [
      "<class 'pandas.core.frame.DataFrame'>\n",
      "Int64Index: 712 entries, 331 to 102\n",
      "Data columns (total 7 columns):\n",
      "Pclass      712 non-null int64\n",
      "Sex         712 non-null object\n",
      "Age         572 non-null float64\n",
      "SibSp       712 non-null int64\n",
      "Parch       712 non-null int64\n",
      "Fare        712 non-null float64\n",
      "Embarked    712 non-null object\n",
      "dtypes: float64(2), int64(3), object(2)\n",
      "memory usage: 44.5+ KB\n"
     ]
    },
    {
     "data": {
      "text/plain": [
       "'\\ndataTrainPrepared = fullPipeline.fit_transform(dataTrain)\\ndataTestPrepared = fullPipeline.fit_transform(dataTest)\\n\\nsgd = SGDClassifier(random_state=42)\\nsgd.fit(dataTrainPrepared, labelsTrain)\\nprint(sgd.score(dataTestPrepared, labelsTest))\\n'"
      ]
     },
     "execution_count": 23,
     "metadata": {},
     "output_type": "execute_result"
    }
   ],
   "source": [
    "import pandas as pd\n",
    "import numpy as np\n",
    "from sklearn.base import BaseEstimator, TransformerMixin\n",
    "from sklearn.model_selection import train_test_split\n",
    "from sklearn.pipeline import Pipeline, FeatureUnion\n",
    "from sklearn.impute import SimpleImputer\n",
    "from sklearn.preprocessing import StandardScaler, OneHotEncoder\n",
    "from sklearn.linear_model import SGDClassifier\n",
    "\n",
    "class DataFrameSelector(BaseEstimator, TransformerMixin):\n",
    "    def __init__(self, attributes=[]):\n",
    "        self.attributes = attributes\n",
    "        return None\n",
    "    def fit(self, X, y=None):\n",
    "        return self\n",
    "    def transform(self, X):\n",
    "        return X[self.attributes]\n",
    "\n",
    "def getAttributes(data, includeTypes=None, excludeTypes=None):\n",
    "    return list(data.select_dtypes(include=includeTypes, exclude=excludeTypes).columns)\n",
    "\n",
    "def readData(filename):\n",
    "    return pd.read_csv(filename)\n",
    "\n",
    "def dropData(data, toDrop=[]):\n",
    "    data = data.drop(columns=toDrop)\n",
    "    return data\n",
    "\n",
    "def cleanData(data, toFill=[]):\n",
    "    toFill = {name: data[name].mode for name in toFill}\n",
    "    data = data.fillna(toFill)\n",
    "    return data\n",
    "\n",
    "dataset = readData(\"train.csv\")\n",
    "\n",
    "dropList = [\"Cabin\", \"Ticket\", \"Name\", \"PassengerId\"]\n",
    "fillList = [\"Embarked\", \"Sex\"]\n",
    "dataset = dropData(data=dataset, toDrop=dropList)\n",
    "dataset = cleanData(data=dataset, toFill=fillList)\n",
    "numCols = dataset.shape[1]\n",
    "\n",
    "np.random.seed(42)\n",
    "\n",
    "#Split the datset into train and test, then into features and labels\n",
    "dataTrain, dataTest = train_test_split(dataset, test_size=.2)\n",
    "labelsTrain = dataTrain.iloc[:, 0:1]\n",
    "dataTrain = dataTrain.iloc[:, 1:]\n",
    "labelsTest = dataTest.iloc[:, 0:0]\n",
    "dataTest = dataTest.iloc[:, 1:]\n",
    "\n",
    "numAttr = getAttributes(dataTrain, excludeTypes=\"object\")\n",
    "catAttr = getAttributes(dataTrain, includeTypes=\"object\")\n",
    "\n",
    "numPipeline = Pipeline([\n",
    "    ('selector', DataFrameSelector(numAttr)),\n",
    "    ('imputer', SimpleImputer(strategy=\"median\")),\n",
    "    ('standarization', StandardScaler())\n",
    "])\n",
    "\n",
    "catPipeline = Pipeline([\n",
    "    ('selector', DataFrameSelector(catAttr)),\n",
    "    ('Encoder', OneHotEncoder(sparse=False, categories=\"auto\"))\n",
    "])\n",
    "\n",
    "fullPipeline = FeatureUnion(transformer_list=[\n",
    "    ('numPipeline', numPipeline),\n",
    "    ('catPipeline', catPipeline)\n",
    "])\n",
    "\n",
    "num = numPipeline.fit_transform(dataTrain)\n",
    "#cat = catPipeline.fit_transform(dataTrain)\n",
    "dataTrain.info()\n",
    "\n",
    "\"\"\"\n",
    "dataTrainPrepared = fullPipeline.fit_transform(dataTrain)\n",
    "dataTestPrepared = fullPipeline.fit_transform(dataTest)\n",
    "\n",
    "sgd = SGDClassifier(random_state=42)\n",
    "sgd.fit(dataTrainPrepared, labelsTrain)\n",
    "print(sgd.score(dataTestPrepared, labelsTest))\n",
    "\"\"\""
   ]
  },
  {
   "cell_type": "code",
   "execution_count": 17,
   "metadata": {},
   "outputs": [],
   "source": [
    "dataTrain[\"Embarked\"] = dataTrain[\"Embarked\"].apply(str)"
   ]
  },
  {
   "cell_type": "code",
   "execution_count": 19,
   "metadata": {},
   "outputs": [
    {
     "data": {
      "text/plain": [
       "S                                                                                                                                                                                                                                                                                                                                                                                                                                                                                                                                                                                                                                                                                                             525\n",
       "C                                                                                                                                                                                                                                                                                                                                                                                                                                                                                                                                                                                                                                                                                                             125\n",
       "Q                                                                                                                                                                                                                                                                                                                                                                                                                                                                                                                                                                                                                                                                                                              60\n",
       "<bound method Series.mode of 0      S\\n1      C\\n2      S\\n3      S\\n4      S\\n5      Q\\n6      S\\n7      S\\n8      S\\n9      C\\n10     S\\n11     S\\n12     S\\n13     S\\n14     S\\n15     S\\n16     Q\\n17     S\\n18     S\\n19     C\\n20     S\\n21     S\\n22     Q\\n23     S\\n24     S\\n25     S\\n26     C\\n27     S\\n28     Q\\n29     S\\n      ..\\n861    S\\n862    S\\n863    S\\n864    S\\n865    S\\n866    C\\n867    S\\n868    S\\n869    S\\n870    S\\n871    S\\n872    S\\n873    S\\n874    C\\n875    C\\n876    S\\n877    S\\n878    S\\n879    C\\n880    S\\n881    S\\n882    S\\n883    S\\n884    S\\n885    Q\\n886    S\\n887    S\\n888    S\\n889    C\\n890    Q\\nName: Embarked, Length: 891, dtype: object>      2\n",
       "Name: Embarked, dtype: int64"
      ]
     },
     "execution_count": 19,
     "metadata": {},
     "output_type": "execute_result"
    }
   ],
   "source": [
    "dataTrain[\"Embarked\"].value_counts()"
   ]
  },
  {
   "cell_type": "code",
   "execution_count": 25,
   "metadata": {},
   "outputs": [
    {
     "data": {
      "text/plain": [
       "Index(['Pclass', 'Sex', 'Age', 'SibSp', 'Parch', 'Fare', 'Embarked'], dtype='object')"
      ]
     },
     "execution_count": 25,
     "metadata": {},
     "output_type": "execute_result"
    }
   ],
   "source": [
    "dataTrain.columns"
   ]
  },
  {
   "cell_type": "code",
   "execution_count": null,
   "metadata": {},
   "outputs": [],
   "source": []
  },
  {
   "cell_type": "code",
   "execution_count": null,
   "metadata": {},
   "outputs": [],
   "source": []
  }
 ],
 "metadata": {
  "kernelspec": {
   "display_name": "Python 3",
   "language": "python",
   "name": "python3"
  },
  "language_info": {
   "codemirror_mode": {
    "name": "ipython",
    "version": 3
   },
   "file_extension": ".py",
   "mimetype": "text/x-python",
   "name": "python",
   "nbconvert_exporter": "python",
   "pygments_lexer": "ipython3",
   "version": "3.6.7"
  }
 },
 "nbformat": 4,
 "nbformat_minor": 2
}
