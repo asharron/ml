{
 "cells": [
  {
   "cell_type": "code",
   "execution_count": 6,
   "metadata": {},
   "outputs": [],
   "source": [
    "import pandas as pd\n",
    "import numpy as np\n",
    "from sklearn.base import BaseEstimator, TransformerMixin\n",
    "from sklearn.model_selection import train_test_split\n",
    "\n",
    "class DataFrameSelector(BaseEstimator, TransformerMixin):\n",
    "    def __init__(self, attributes=[]):\n",
    "        self.attributes = attributes\n",
    "        return self\n",
    "    def fit(self, X, y=None):\n",
    "        return self\n",
    "    def transform(self, X):\n",
    "        return X[self.attributes].values\n",
    "\n",
    "def readData(filename):\n",
    "    return pd.read_csv(filename)\n",
    "\n",
    "def dropData(data, toDrop=[]):\n",
    "    data = data.drop(columns=toDrop)\n",
    "    return data\n",
    "\n",
    "def cleanData(data, toFill=[]):\n",
    "    return data\n",
    "\n",
    "dataset = readData(\"train.csv\")\n",
    "\n",
    "dropList = [\"Cabin\", \"Ticket\", \"Name\", \"PassengerId\"]\n",
    "fillList = [\"Embarked\"]\n",
    "dataset = dropData(data=dataset, toDrop=dropList)\n",
    "dataset = cleanData(data=dataset, toFill=fillList)\n",
    "numCols = dataset.shape[1]\n",
    "\n",
    "np.random.seed(42)\n",
    "\n",
    "#Split the datset into train and test, then into features and labels\n",
    "dataTrain, dataTest = train_test_split(dataset, test_size=.2)\n",
    "labelsTrain = dataTrain.iloc[:, 0:0]\n",
    "dataTrain = dataTrain.iloc[:, 1:]\n",
    "labelsTest = dataTest.iloc[:, 0:0]\n",
    "dataTest = dataTest.iloc[:, 1:]"
   ]
  },
  {
   "cell_type": "code",
   "execution_count": 4,
   "metadata": {},
   "outputs": [
    {
     "name": "stdout",
     "output_type": "stream",
     "text": [
      "<class 'pandas.core.frame.DataFrame'>\n",
      "Int64Index: 712 entries, 331 to 102\n",
      "Data columns (total 7 columns):\n",
      "Pclass      712 non-null int64\n",
      "Sex         712 non-null object\n",
      "Age         572 non-null float64\n",
      "SibSp       712 non-null int64\n",
      "Parch       712 non-null int64\n",
      "Fare        712 non-null float64\n",
      "Embarked    710 non-null object\n",
      "dtypes: float64(2), int64(3), object(2)\n",
      "memory usage: 44.5+ KB\n"
     ]
    }
   ],
   "source": [
    "dataTrain.info()"
   ]
  },
  {
   "cell_type": "code",
   "execution_count": 16,
   "metadata": {},
   "outputs": [],
   "source": [
    "median = dataTrain[\"Embarked\"].mode"
   ]
  },
  {
   "cell_type": "code",
   "execution_count": 17,
   "metadata": {},
   "outputs": [
    {
     "name": "stdout",
     "output_type": "stream",
     "text": [
      "<class 'pandas.core.frame.DataFrame'>\n",
      "Int64Index: 712 entries, 331 to 102\n",
      "Data columns (total 7 columns):\n",
      "Pclass      712 non-null int64\n",
      "Sex         712 non-null object\n",
      "Age         572 non-null float64\n",
      "SibSp       712 non-null int64\n",
      "Parch       712 non-null int64\n",
      "Fare        712 non-null float64\n",
      "Embarked    712 non-null object\n",
      "dtypes: float64(2), int64(3), object(2)\n",
      "memory usage: 44.5+ KB\n"
     ]
    }
   ],
   "source": [
    "dataTrain = dataTrain.fillna(value={\"Embarked\": median})\n",
    "dataTrain.info()"
   ]
  },
  {
   "cell_type": "code",
   "execution_count": null,
   "metadata": {},
   "outputs": [],
   "source": []
  }
 ],
 "metadata": {
  "kernelspec": {
   "display_name": "Python 3",
   "language": "python",
   "name": "python3"
  },
  "language_info": {
   "codemirror_mode": {
    "name": "ipython",
    "version": 3
   },
   "file_extension": ".py",
   "mimetype": "text/x-python",
   "name": "python",
   "nbconvert_exporter": "python",
   "pygments_lexer": "ipython3",
   "version": "3.6.7"
  }
 },
 "nbformat": 4,
 "nbformat_minor": 2
}
